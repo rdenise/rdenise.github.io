{
 "cells": [
  {
   "cell_type": "markdown",
   "metadata": {
    "deletable": true,
    "editable": true
   },
   "source": [
    "# Talks markdown generator for academicpages\n",
    "\n",
    "Takes a TSV of talks with metadata and converts them for use with [academicpages.github.io](academicpages.github.io). This is an interactive Jupyter notebook ([see more info here](http://jupyter-notebook-beginner-guide.readthedocs.io/en/latest/what_is_jupyter.html)). The core python code is also in `talks.py`. Run either from the `markdown_generator` folder after replacing `talks.tsv` with one containing your data.\n",
    "\n",
    "TODO: Make this work with BibTex and other databases, rather than Stuart's non-standard TSV format and citation style."
   ]
  },
  {
   "cell_type": "code",
   "execution_count": 2,
   "metadata": {
    "collapsed": false,
    "deletable": true,
    "editable": true
   },
   "outputs": [],
   "source": [
    "import pandas as pd\n",
    "import os"
   ]
  },
  {
   "cell_type": "markdown",
   "metadata": {},
   "source": [
    "## Data format\n",
    "\n",
    "The TSV needs to have the following columns: title, type, url_slug, venue, date, location, talk_url, description, with a header at the top. Many of these fields can be blank, but the columns must be in the TSV.\n",
    "\n",
    "- Fields that cannot be blank: `title`, `url_slug`, `date`. All else can be blank. `type` defaults to \"Talk\" \n",
    "- `date` must be formatted as YYYY-MM-DD.\n",
    "- `url_slug` will be the descriptive part of the .md file and the permalink URL for the page about the paper. \n",
    "    - The .md file will be `YYYY-MM-DD-[url_slug].md` and the permalink will be `https://[yourdomain]/talks/YYYY-MM-DD-[url_slug]`\n",
    "    - The combination of `url_slug` and `date` must be unique, as it will be the basis for your filenames\n",
    "\n",
    "This is how the raw file looks (it doesn't look pretty, use a spreadsheet or other program to edit and create)."
   ]
  },
  {
   "cell_type": "code",
   "execution_count": 3,
   "metadata": {
    "collapsed": false
   },
   "outputs": [
    {
     "name": "stdout",
     "output_type": "stream",
     "text": [
      "title\ttype\turl_slug\tvenue\tdate\tlocation\ttalk_url\tdescription\n",
      "Co-option of complex molecular systems in bacterial and archaeal membranes\tTalk\ttalk-1\tJOBIM\t05/07/2018\tMarseille, France\t\t\n",
      "Co-option of complex molecular system in bacterial membranes\tTalk\ttalk-2\tAlPhy\t02/02/2018\tMontpellier, France\t\t\n",
      "Patterns of diversity and conservation among structural proteins of crAss-like phages\tPoster\tposter-1\tViruses of Microbes\t18/07/2022\tGuimaraes, Portugal\t\t\n",
      "Co-option of complex molecular system in bacterial membranes\tPoster\tposter-2\tII Joint Congress on Evolutionary Biology\t18/08/2018\tMontpellier, France\t\t\n",
      "Co-option of complex molecular system in bacterial membranes\tPoster\tposter-3\tBoris Ephrussi Day\t14/05/2018\tParis, France\t\t\n",
      "Co-option of complex molecular system in bacterial membranes\tPoster\tposter-4\tJOBIM\t05/07/2017\tLille, France\t\t\n",
      "Co-option of complex molecular system in bacterial membranes\tPoster\tposter-5\tMathematical and Computational Evolutionary Biology\t26/05/2017\tPorquerolles Island, France\t\t\n",
      "Disentangling the co-option of molecular functions: the T4P/T2SS/Tad/Com/Archaellum conundrum\tPoster\tposter-6\tYoung Researcher in Life Science\t08/06/2016\tParis, France\t\t\n",
      "Macsyfinder v2 - Improved modelling and search engine to identify molecular systems in genomes\tPoster\tposter-7\tAlPhy - AEIM\t23/01/2023\tGrenoble, France\t\t\n",
      "Diversity of bacteriophages in the ancient human microbiome \tPoster\tposter-8\tViruses of Microbes\t03/07/2023\tTbilisi, Georgia\t\t\n",
      "Diversity of bacteriophages in the ancient human microbiome \tPoster\tposter-9\tEvergreen Phage Meeting \t06/08/2023\tOlympia, Washington, USA\t\t\n",
      "Diversity of bacteriophages in the ancient human microbiome \tPoster\tposter-10\tISBA - New Horizons in Biomolecular Archaeology\t13/07/2023\tTartu, Estonia\t\t"
     ]
    }
   ],
   "source": [
    "!cat talks.tsv"
   ]
  },
  {
   "cell_type": "markdown",
   "metadata": {},
   "source": [
    "## Import TSV\n",
    "\n",
    "Pandas makes this easy with the read_csv function. We are using a TSV, so we specify the separator as a tab, or `\\t`.\n",
    "\n",
    "I found it important to put this data in a tab-separated values format, because there are a lot of commas in this kind of data and comma-separated values can get messed up. However, you can modify the import statement, as pandas also has read_excel(), read_json(), and others."
   ]
  },
  {
   "cell_type": "code",
   "execution_count": 4,
   "metadata": {
    "collapsed": false,
    "deletable": true,
    "editable": true
   },
   "outputs": [
    {
     "data": {
      "text/html": [
       "<div>\n",
       "<style scoped>\n",
       "    .dataframe tbody tr th:only-of-type {\n",
       "        vertical-align: middle;\n",
       "    }\n",
       "\n",
       "    .dataframe tbody tr th {\n",
       "        vertical-align: top;\n",
       "    }\n",
       "\n",
       "    .dataframe thead th {\n",
       "        text-align: right;\n",
       "    }\n",
       "</style>\n",
       "<table border=\"1\" class=\"dataframe\">\n",
       "  <thead>\n",
       "    <tr style=\"text-align: right;\">\n",
       "      <th></th>\n",
       "      <th>title</th>\n",
       "      <th>type</th>\n",
       "      <th>url_slug</th>\n",
       "      <th>venue</th>\n",
       "      <th>date</th>\n",
       "      <th>location</th>\n",
       "      <th>talk_url</th>\n",
       "      <th>description</th>\n",
       "    </tr>\n",
       "  </thead>\n",
       "  <tbody>\n",
       "    <tr>\n",
       "      <th>0</th>\n",
       "      <td>Co-option of complex molecular systems in bact...</td>\n",
       "      <td>Talk</td>\n",
       "      <td>talk-1</td>\n",
       "      <td>JOBIM</td>\n",
       "      <td>05/07/2018</td>\n",
       "      <td>Marseille, France</td>\n",
       "      <td>&lt;NA&gt;</td>\n",
       "      <td>&lt;NA&gt;</td>\n",
       "    </tr>\n",
       "    <tr>\n",
       "      <th>1</th>\n",
       "      <td>Co-option of complex molecular system in bacte...</td>\n",
       "      <td>Talk</td>\n",
       "      <td>talk-2</td>\n",
       "      <td>AlPhy</td>\n",
       "      <td>02/02/2018</td>\n",
       "      <td>Montpellier, France</td>\n",
       "      <td>&lt;NA&gt;</td>\n",
       "      <td>&lt;NA&gt;</td>\n",
       "    </tr>\n",
       "    <tr>\n",
       "      <th>2</th>\n",
       "      <td>Patterns of diversity and conservation among s...</td>\n",
       "      <td>Poster</td>\n",
       "      <td>poster-1</td>\n",
       "      <td>Viruses of Microbes</td>\n",
       "      <td>18/07/2022</td>\n",
       "      <td>Guimaraes, Portugal</td>\n",
       "      <td>&lt;NA&gt;</td>\n",
       "      <td>&lt;NA&gt;</td>\n",
       "    </tr>\n",
       "    <tr>\n",
       "      <th>3</th>\n",
       "      <td>Co-option of complex molecular system in bacte...</td>\n",
       "      <td>Poster</td>\n",
       "      <td>poster-2</td>\n",
       "      <td>II Joint Congress on Evolutionary Biology</td>\n",
       "      <td>18/08/2018</td>\n",
       "      <td>Montpellier, France</td>\n",
       "      <td>&lt;NA&gt;</td>\n",
       "      <td>&lt;NA&gt;</td>\n",
       "    </tr>\n",
       "    <tr>\n",
       "      <th>4</th>\n",
       "      <td>Co-option of complex molecular system in bacte...</td>\n",
       "      <td>Poster</td>\n",
       "      <td>poster-3</td>\n",
       "      <td>Boris Ephrussi Day</td>\n",
       "      <td>14/05/2018</td>\n",
       "      <td>Paris, France</td>\n",
       "      <td>&lt;NA&gt;</td>\n",
       "      <td>&lt;NA&gt;</td>\n",
       "    </tr>\n",
       "    <tr>\n",
       "      <th>5</th>\n",
       "      <td>Co-option of complex molecular system in bacte...</td>\n",
       "      <td>Poster</td>\n",
       "      <td>poster-4</td>\n",
       "      <td>JOBIM</td>\n",
       "      <td>05/07/2017</td>\n",
       "      <td>Lille, France</td>\n",
       "      <td>&lt;NA&gt;</td>\n",
       "      <td>&lt;NA&gt;</td>\n",
       "    </tr>\n",
       "    <tr>\n",
       "      <th>6</th>\n",
       "      <td>Co-option of complex molecular system in bacte...</td>\n",
       "      <td>Poster</td>\n",
       "      <td>poster-5</td>\n",
       "      <td>Mathematical and Computational Evolutionary Bi...</td>\n",
       "      <td>26/05/2017</td>\n",
       "      <td>Porquerolles Island, France</td>\n",
       "      <td>&lt;NA&gt;</td>\n",
       "      <td>&lt;NA&gt;</td>\n",
       "    </tr>\n",
       "    <tr>\n",
       "      <th>7</th>\n",
       "      <td>Disentangling the co-option of molecular funct...</td>\n",
       "      <td>Poster</td>\n",
       "      <td>poster-6</td>\n",
       "      <td>Young Researcher in Life Science</td>\n",
       "      <td>08/06/2016</td>\n",
       "      <td>Paris, France</td>\n",
       "      <td>&lt;NA&gt;</td>\n",
       "      <td>&lt;NA&gt;</td>\n",
       "    </tr>\n",
       "    <tr>\n",
       "      <th>8</th>\n",
       "      <td>Macsyfinder v2 - Improved modelling and search...</td>\n",
       "      <td>Poster</td>\n",
       "      <td>poster-7</td>\n",
       "      <td>AlPhy - AEIM</td>\n",
       "      <td>23/01/2023</td>\n",
       "      <td>Grenoble, France</td>\n",
       "      <td>&lt;NA&gt;</td>\n",
       "      <td>&lt;NA&gt;</td>\n",
       "    </tr>\n",
       "    <tr>\n",
       "      <th>9</th>\n",
       "      <td>Diversity of bacteriophages in the ancient hum...</td>\n",
       "      <td>Poster</td>\n",
       "      <td>poster-8</td>\n",
       "      <td>Viruses of Microbes</td>\n",
       "      <td>03/07/2023</td>\n",
       "      <td>Tbilisi, Georgia</td>\n",
       "      <td>&lt;NA&gt;</td>\n",
       "      <td>&lt;NA&gt;</td>\n",
       "    </tr>\n",
       "    <tr>\n",
       "      <th>10</th>\n",
       "      <td>Diversity of bacteriophages in the ancient hum...</td>\n",
       "      <td>Poster</td>\n",
       "      <td>poster-9</td>\n",
       "      <td>Evergreen Phage Meeting</td>\n",
       "      <td>06/08/2023</td>\n",
       "      <td>Olympia, Washington, USA</td>\n",
       "      <td>&lt;NA&gt;</td>\n",
       "      <td>&lt;NA&gt;</td>\n",
       "    </tr>\n",
       "    <tr>\n",
       "      <th>11</th>\n",
       "      <td>Diversity of bacteriophages in the ancient hum...</td>\n",
       "      <td>Poster</td>\n",
       "      <td>poster-10</td>\n",
       "      <td>ISBA - New Horizons in Biomolecular Archaeology</td>\n",
       "      <td>13/07/2023</td>\n",
       "      <td>Tartu, Estonia</td>\n",
       "      <td>&lt;NA&gt;</td>\n",
       "      <td>&lt;NA&gt;</td>\n",
       "    </tr>\n",
       "  </tbody>\n",
       "</table>\n",
       "</div>"
      ],
      "text/plain": [
       "                                                title    type   url_slug  \\\n",
       "0   Co-option of complex molecular systems in bact...    Talk     talk-1   \n",
       "1   Co-option of complex molecular system in bacte...    Talk     talk-2   \n",
       "2   Patterns of diversity and conservation among s...  Poster   poster-1   \n",
       "3   Co-option of complex molecular system in bacte...  Poster   poster-2   \n",
       "4   Co-option of complex molecular system in bacte...  Poster   poster-3   \n",
       "5   Co-option of complex molecular system in bacte...  Poster   poster-4   \n",
       "6   Co-option of complex molecular system in bacte...  Poster   poster-5   \n",
       "7   Disentangling the co-option of molecular funct...  Poster   poster-6   \n",
       "8   Macsyfinder v2 - Improved modelling and search...  Poster   poster-7   \n",
       "9   Diversity of bacteriophages in the ancient hum...  Poster   poster-8   \n",
       "10  Diversity of bacteriophages in the ancient hum...  Poster   poster-9   \n",
       "11  Diversity of bacteriophages in the ancient hum...  Poster  poster-10   \n",
       "\n",
       "                                                venue        date  \\\n",
       "0                                               JOBIM  05/07/2018   \n",
       "1                                               AlPhy  02/02/2018   \n",
       "2                                 Viruses of Microbes  18/07/2022   \n",
       "3           II Joint Congress on Evolutionary Biology  18/08/2018   \n",
       "4                                  Boris Ephrussi Day  14/05/2018   \n",
       "5                                               JOBIM  05/07/2017   \n",
       "6   Mathematical and Computational Evolutionary Bi...  26/05/2017   \n",
       "7                    Young Researcher in Life Science  08/06/2016   \n",
       "8                                        AlPhy - AEIM  23/01/2023   \n",
       "9                                 Viruses of Microbes  03/07/2023   \n",
       "10                           Evergreen Phage Meeting   06/08/2023   \n",
       "11    ISBA - New Horizons in Biomolecular Archaeology  13/07/2023   \n",
       "\n",
       "                       location talk_url description  \n",
       "0             Marseille, France     <NA>        <NA>  \n",
       "1           Montpellier, France     <NA>        <NA>  \n",
       "2           Guimaraes, Portugal     <NA>        <NA>  \n",
       "3           Montpellier, France     <NA>        <NA>  \n",
       "4                 Paris, France     <NA>        <NA>  \n",
       "5                 Lille, France     <NA>        <NA>  \n",
       "6   Porquerolles Island, France     <NA>        <NA>  \n",
       "7                 Paris, France     <NA>        <NA>  \n",
       "8              Grenoble, France     <NA>        <NA>  \n",
       "9              Tbilisi, Georgia     <NA>        <NA>  \n",
       "10     Olympia, Washington, USA     <NA>        <NA>  \n",
       "11               Tartu, Estonia     <NA>        <NA>  "
      ]
     },
     "execution_count": 4,
     "metadata": {},
     "output_type": "execute_result"
    }
   ],
   "source": [
    "talks = pd.read_csv(\"talks.tsv\", sep=\"\\t\", header=0, dtype=\"string\")\n",
    "talks"
   ]
  },
  {
   "cell_type": "markdown",
   "metadata": {},
   "source": [
    "## Escape special characters\n",
    "\n",
    "YAML is very picky about how it takes a valid string, so we are replacing single and double quotes (and ampersands) with their HTML encoded equivilents. This makes them look not so readable in raw format, but they are parsed and rendered nicely."
   ]
  },
  {
   "cell_type": "code",
   "execution_count": 5,
   "metadata": {
    "collapsed": false,
    "deletable": true,
    "editable": true
   },
   "outputs": [],
   "source": [
    "html_escape_table = {\n",
    "    \"&\": \"&amp;\",\n",
    "    '\"': \"&quot;\",\n",
    "    \"'\": \"&apos;\"\n",
    "    }\n",
    "\n",
    "def html_escape(text):\n",
    "    if type(text) is str:\n",
    "        return \"\".join(html_escape_table.get(c,c) for c in text)\n",
    "    else:\n",
    "        return \"False\""
   ]
  },
  {
   "cell_type": "markdown",
   "metadata": {},
   "source": [
    "## Creating the markdown files\n",
    "\n",
    "This is where the heavy lifting is done. This loops through all the rows in the TSV dataframe, then starts to concatentate a big string (```md```) that contains the markdown for each type. It does the YAML metadata first, then does the description for the individual page."
   ]
  },
  {
   "cell_type": "code",
   "execution_count": 6,
   "metadata": {
    "collapsed": false,
    "deletable": true,
    "editable": true
   },
   "outputs": [],
   "source": [
    "loc_dict = {}\n",
    "\n",
    "for row, item in talks.iterrows():\n",
    "    \n",
    "    md_filename = str(item.date) + \"-\" + item.url_slug + \".md\"\n",
    "    html_filename = str(item.date) + \"-\" + item.url_slug \n",
    "    year = item.date[:4]\n",
    "    \n",
    "    md = \"---\\ntitle: \\\"\"   + item.title + '\"\\n'\n",
    "    md += \"collection: talks\" + \"\\n\"\n",
    "\n",
    "    if len(str(item.type)) > 3:\n",
    "        md += 'type: \"' + item.type + '\"\\n'\n",
    "    else:\n",
    "        md += 'type: \"Talk\"\\n'\n",
    "    \n",
    "    md += \"permalink: /talks/\" + html_filename + \"\\n\"\n",
    "    \n",
    "    if len(str(item.venue)) > 3:\n",
    "        md += 'venue: \"' + item.venue + '\"\\n'\n",
    "        \n",
    "    if len(str(item.location)) > 3:\n",
    "        md += \"date: \" + str(item.date) + \"\\n\"\n",
    "    \n",
    "    if len(str(item.location)) > 3:\n",
    "        md += 'location: \"' + str(item.location) + '\"\\n'\n",
    "           \n",
    "    md += \"---\\n\"\n",
    "                \n",
    "    md_filename = os.path.basename(md_filename)\n",
    "    with open(\"../_talks/\" + md_filename, 'w') as f:\n",
    "        f.write(md)"
   ]
  },
  {
   "cell_type": "markdown",
   "metadata": {},
   "source": [
    "These files are in the talks directory, one directory below where we're working from."
   ]
  },
  {
   "cell_type": "code",
   "execution_count": 7,
   "metadata": {
    "collapsed": false,
    "deletable": true,
    "editable": true
   },
   "outputs": [
    {
     "name": "stdout",
     "output_type": "stream",
     "text": [
      "2016-06-08-poster-6.md 2018-05-14-poster-3.md 2022-07-18-poster-1.md\n",
      "2016-poster-6.md       2018-07-05-talk-1.md   2022-poster-1.md\n",
      "2017-05-26-poster-5.md 2018-08-18-poster-2.md 2023-01-23-Poster-7.md\n",
      "2017-07-05-poster-4.md 2018-poster-2.md       2023-poster-10.md\n",
      "2017-poster-4.md       2018-poster-3.md       2023-poster-7.md\n",
      "2017-poster-5.md       2018-talk-1.md         2023-poster-8.md\n",
      "2018-02-02-talk-2.md   2018-talk-2.md         2023-poster-9.md\n"
     ]
    }
   ],
   "source": [
    "!ls ../_talks"
   ]
  },
  {
   "cell_type": "code",
   "execution_count": 7,
   "metadata": {
    "collapsed": false,
    "deletable": true,
    "editable": true
   },
   "outputs": [
    {
     "name": "stdout",
     "output_type": "stream",
     "text": [
      "---\r\n",
      "title: \"Tutorial 1 on Relevant Topic in Your Field\"\r\n",
      "collection: talks\r\n",
      "type: \"Tutorial\"\r\n",
      "permalink: /talks/2013-03-01-tutorial-1\r\n",
      "venue: \"UC-Berkeley Institute for Testing Science\"\r\n",
      "date: 2013-03-01\r\n",
      "location: \"Berkeley CA, USA\"\r\n",
      "---\r\n",
      "\r\n",
      "[More information here](http://exampleurl.com)\r\n",
      "\r\n",
      "This is a description of your tutorial, note the different field in type. This is a markdown files that can be all markdown-ified like any other post. Yay markdown!\r\n"
     ]
    }
   ],
   "source": [
    "!cat ../_talks/2013-03-01-tutorial-1.md"
   ]
  }
 ],
 "metadata": {
  "kernelspec": {
   "display_name": "py3_10",
   "language": "python",
   "name": "python3"
  },
  "language_info": {
   "codemirror_mode": {
    "name": "ipython",
    "version": 3
   },
   "file_extension": ".py",
   "mimetype": "text/x-python",
   "name": "python",
   "nbconvert_exporter": "python",
   "pygments_lexer": "ipython3",
   "version": "3.11.4"
  },
  "vscode": {
   "interpreter": {
    "hash": "e2c24d2ea059c372b19f6523e7b9714461ab6f4d04db1eaff6b489eb43e1c756"
   }
  }
 },
 "nbformat": 4,
 "nbformat_minor": 0
}
